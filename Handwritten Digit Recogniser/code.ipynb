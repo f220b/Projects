{
 "cells": [
  {
   "cell_type": "code",
   "execution_count": 1,
   "metadata": {},
   "outputs": [],
   "source": [
    "import os  # for file handling\n",
    "import cv2  # for image processing\n",
    "import tensorflow as tf  # for dl\n",
    "import numpy as np  # for numerical operations\n",
    "import matplotlib.pyplot as plt\n",
    "import tkinter as tk\n",
    "from tkinter import filedialog\n",
    "from PIL import Image, ImageTk"
   ]
  },
  {
   "cell_type": "code",
   "execution_count": 2,
   "metadata": {},
   "outputs": [],
   "source": [
    "mnist = tf.keras.datasets.mnist  # loading the data for (0-9) handwritten digits"
   ]
  },
  {
   "cell_type": "code",
   "execution_count": 3,
   "metadata": {},
   "outputs": [
    {
     "name": "stdout",
     "output_type": "stream",
     "text": [
      "(40000, 28, 28)\n",
      "(10000, 28, 28)\n"
     ]
    }
   ],
   "source": [
    "(x_train, y_train), (x_test, y_test) = mnist.load_data()\n",
    "x_train = x_train[:40000]\n",
    "y_train = y_train[:40000]\n",
    "print(x_train.shape)\n",
    "print(x_test.shape)"
   ]
  },
  {
   "cell_type": "code",
   "execution_count": 4,
   "metadata": {},
   "outputs": [],
   "source": [
    "# normalising the data\n",
    "x_train = tf.keras.utils.normalize(\n",
    "    x_train, axis=1\n",
    ")  # normalised along individual rows hence axis=1\n",
    "x_test = tf.keras.utils.normalize(x_test, axis=1)"
   ]
  },
  {
   "cell_type": "code",
   "execution_count": 5,
   "metadata": {},
   "outputs": [],
   "source": [
    "# creating the model\n",
    "model = tf.keras.models.Sequential()\n",
    "model.add(tf.keras.layers.Flatten(input_shape=(28, 28)))\n",
    "model.add(tf.keras.layers.Dense(256, activation=\"relu\"))\n",
    "model.add(tf.keras.layers.Dense(256, activation=\"relu\"))\n",
    "model.add(tf.keras.layers.Dense(10, activation=\"softmax\"))"
   ]
  },
  {
   "cell_type": "code",
   "execution_count": 6,
   "metadata": {},
   "outputs": [],
   "source": [
    "model.compile(\n",
    "    optimizer=\"adam\", loss=\"sparse_categorical_crossentropy\", metrics=[\"accuracy\"]\n",
    ")"
   ]
  },
  {
   "cell_type": "code",
   "execution_count": 7,
   "metadata": {},
   "outputs": [
    {
     "name": "stdout",
     "output_type": "stream",
     "text": [
      "Epoch 1/10\n",
      "1250/1250 [==============================] - 7s 4ms/step - loss: 0.2629 - accuracy: 0.9234\n",
      "Epoch 2/10\n",
      "1250/1250 [==============================] - 6s 4ms/step - loss: 0.1022 - accuracy: 0.9679\n",
      "Epoch 3/10\n",
      "1250/1250 [==============================] - 6s 4ms/step - loss: 0.0657 - accuracy: 0.9792\n",
      "Epoch 4/10\n",
      "1250/1250 [==============================] - 5s 4ms/step - loss: 0.0435 - accuracy: 0.9863\n",
      "Epoch 5/10\n",
      "1250/1250 [==============================] - 6s 4ms/step - loss: 0.0359 - accuracy: 0.9877\n",
      "Epoch 6/10\n",
      "1250/1250 [==============================] - 6s 5ms/step - loss: 0.0278 - accuracy: 0.9910\n",
      "Epoch 7/10\n",
      "1250/1250 [==============================] - 6s 4ms/step - loss: 0.0213 - accuracy: 0.9927\n",
      "Epoch 8/10\n",
      "1250/1250 [==============================] - 6s 5ms/step - loss: 0.0189 - accuracy: 0.9935\n",
      "Epoch 9/10\n",
      "1250/1250 [==============================] - 6s 5ms/step - loss: 0.0167 - accuracy: 0.9943\n",
      "Epoch 10/10\n",
      "1250/1250 [==============================] - 24s 19ms/step - loss: 0.0145 - accuracy: 0.9950\n"
     ]
    },
    {
     "data": {
      "text/plain": [
       "<keras.src.callbacks.History at 0x1be24ef0f50>"
      ]
     },
     "execution_count": 7,
     "metadata": {},
     "output_type": "execute_result"
    }
   ],
   "source": [
    "# fitting the model\n",
    "model.fit(x_train, y_train, epochs=10)"
   ]
  },
  {
   "cell_type": "code",
   "execution_count": 8,
   "metadata": {},
   "outputs": [
    {
     "name": "stdout",
     "output_type": "stream",
     "text": [
      "INFO:tensorflow:Assets written to: numbers.model\\assets\n"
     ]
    },
    {
     "name": "stderr",
     "output_type": "stream",
     "text": [
      "INFO:tensorflow:Assets written to: numbers.model\\assets\n"
     ]
    }
   ],
   "source": [
    "model.save(\"numbers.model\")"
   ]
  },
  {
   "cell_type": "code",
   "execution_count": 9,
   "metadata": {},
   "outputs": [
    {
     "name": "stdout",
     "output_type": "stream",
     "text": [
      "313/313 [==============================] - 6s 12ms/step - loss: 0.1434 - accuracy: 0.9713\n",
      "14.343683421611786\n",
      "97.13000059127808\n"
     ]
    }
   ],
   "source": [
    "# evaluating the model\n",
    "loss, accuracy = model.evaluate(x_test, y_test)\n",
    "print(loss * 100)\n",
    "print(accuracy * 100)"
   ]
  },
  {
   "cell_type": "code",
   "execution_count": 10,
   "metadata": {},
   "outputs": [
    {
     "name": "stdout",
     "output_type": "stream",
     "text": [
      "1/1 [==============================] - 0s 373ms/step\n"
     ]
    },
    {
     "name": "stderr",
     "output_type": "stream",
     "text": [
      "C:\\Users\\parth\\AppData\\Local\\Temp\\ipykernel_14320\\1436684425.py:24: DeprecationWarning: ANTIALIAS is deprecated and will be removed in Pillow 10 (2023-07-01). Use LANCZOS or Resampling.LANCZOS instead.\n",
      "  img = img.resize((img.width * 2, img.height * 2), Image.ANTIALIAS)\n"
     ]
    }
   ],
   "source": [
    "model = tf.keras.models.load_model(\"numbers.model\")\n",
    "\n",
    "\n",
    "def predict_digit(image_path):\n",
    "    try:\n",
    "        img = cv2.imread(image_path)[:, :, 0]\n",
    "        img = np.invert(np.array([img]))\n",
    "        prediction = model.predict(img)\n",
    "        return np.argmax(prediction)\n",
    "    except:\n",
    "        return None\n",
    "\n",
    "\n",
    "def open_file_dialog():\n",
    "    file_path = filedialog.askopenfilename(\n",
    "        filetypes=[(\"Image files\", \"*.png *.jpg *.jpeg *.gif *.bmp\")]\n",
    "    )\n",
    "    if file_path:\n",
    "        digit = predict_digit(file_path)\n",
    "        if digit is not None:\n",
    "            result_label.config(text=f\"The number is probably a {digit}\")\n",
    "            img = Image.open(file_path)\n",
    "            # Increase image size by 2 times\n",
    "            img = img.resize((img.width * 2, img.height * 2), Image.ANTIALIAS)\n",
    "            img = ImageTk.PhotoImage(img)\n",
    "            image_label.config(image=img)\n",
    "            image_label.image = img\n",
    "            open_button.pack_forget()  # Hide the \"Open Image\" button\n",
    "        else:\n",
    "            result_label.config(text=\"Error\")\n",
    "\n",
    "\n",
    "# Create the main window with size 400x400\n",
    "root = tk.Tk()\n",
    "root.title(\"Digit Recognition\")\n",
    "root.geometry(\"400x400\")\n",
    "\n",
    "# Create and configure widgets\n",
    "result_label = tk.Label(root, text=\"\", font=(\"Helvetica\", 16))\n",
    "image_label = tk.Label(root)\n",
    "open_button = tk.Button(root, text=\"Open Image\", command=open_file_dialog)\n",
    "\n",
    "# Layout widgets initially in the middle\n",
    "result_label.pack(pady=50)\n",
    "image_label.pack()\n",
    "open_button.pack(pady=10)\n",
    "\n",
    "root.mainloop()"
   ]
  }
 ],
 "metadata": {
  "kernelspec": {
   "display_name": "Python 3",
   "language": "python",
   "name": "python3"
  },
  "language_info": {
   "codemirror_mode": {
    "name": "ipython",
    "version": 3
   },
   "file_extension": ".py",
   "mimetype": "text/x-python",
   "name": "python",
   "nbconvert_exporter": "python",
   "pygments_lexer": "ipython3",
   "version": "3.11.5"
  },
  "orig_nbformat": 4
 },
 "nbformat": 4,
 "nbformat_minor": 2
}
